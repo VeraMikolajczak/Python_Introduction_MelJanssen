{
 "cells": [
  {
   "cell_type": "code",
   "execution_count": 8,
   "metadata": {},
   "outputs": [],
   "source": [
    "#Datei mit Python herunterladen und bearbeiten\n",
    "#Dazu die Standardbibliothek urllib und dessen Modul request nötig\n",
    "#Alle Libraries werden ganz oben importert\n",
    "import urllib.request\n",
    "import csv"
   ]
  },
  {
   "cell_type": "markdown",
   "metadata": {},
   "source": [
    "# Datei mit Python herunterladen und bearbeiten"
   ]
  },
  {
   "cell_type": "code",
   "execution_count": 6,
   "metadata": {},
   "outputs": [],
   "source": [
    "#Quelle\n",
    "url = \"https://raw.githubusercontent.com/foerstner-lab/Bits_and_pieces_for_the_carpentries_workshops/master/plain_text_file_examples/DOIs_PMIDs_PubYears.tsv\"\n",
    "#Ziel\n",
    "file = \"DOIs_PMIDs_PubYears.tsv\""
   ]
  },
  {
   "cell_type": "code",
   "execution_count": 5,
   "metadata": {},
   "outputs": [
    {
     "data": {
      "text/plain": [
       "('DOIs_PMIDs_PubYears.tsv', <http.client.HTTPMessage at 0x2128defea90>)"
      ]
     },
     "execution_count": 5,
     "metadata": {},
     "output_type": "execute_result"
    }
   ],
   "source": [
    "urllib.request.urlretrieve(url, file)\n",
    "#Bibliothek.Modul.Funktion(Quelle, Ziel)"
   ]
  },
  {
   "cell_type": "code",
   "execution_count": 14,
   "metadata": {},
   "outputs": [
    {
     "name": "stdout",
     "output_type": "stream",
     "text": [
      "Year\n",
      "2019\n",
      "2019\n",
      "2018\n",
      "2018\n",
      "2019\n"
     ]
    }
   ],
   "source": [
    "fh = open(file)\n",
    "#fh steht für fine handle\n",
    "#open übersetzt Daten in Plaintext Datei, wird nur zugänglich gemacht aber noch NICHT eingelesen. \n",
    "#Das macht bei ganz großen Dateien einen Unterschied\n",
    "for line in csv.reader(fh, delimiter=\"\\t\"):\n",
    "#csv.reader(fh, delimiter=\"\\t\") ist der Iterator der die Anzahl der Durchgänge bestimmt\n",
    "#Funktion csv.reader braucht die Variable für die zugängliche Datei und dann den richtigen Delimiter\n",
    "    print(line[-1])"
   ]
  },
  {
   "cell_type": "code",
   "execution_count": null,
   "metadata": {},
   "outputs": [],
   "source": []
  }
 ],
 "metadata": {
  "kernelspec": {
   "display_name": "Python 3",
   "language": "python",
   "name": "python3"
  },
  "language_info": {
   "codemirror_mode": {
    "name": "ipython",
    "version": 3
   },
   "file_extension": ".py",
   "mimetype": "text/x-python",
   "name": "python",
   "nbconvert_exporter": "python",
   "pygments_lexer": "ipython3",
   "version": "3.7.3"
  }
 },
 "nbformat": 4,
 "nbformat_minor": 2
}
