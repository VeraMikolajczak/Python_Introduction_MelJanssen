{
 "cells": [
  {
   "cell_type": "code",
   "execution_count": 122,
   "metadata": {},
   "outputs": [],
   "source": [
    "import urllib.request\n",
    "# urllib.request um Daten herunterzuladen\n",
    "import json\n",
    "#Bibliothek json um mit JSON Dateien zu arbeiten"
   ]
  },
  {
   "cell_type": "code",
   "execution_count": 123,
   "metadata": {},
   "outputs": [],
   "source": [
    "base_url = \"http://api.crossref.org/works/\"\n",
    "#Quelle\n",
    "doi = \"10.1371/journal.pcbi.1004668\"\n",
    "#DOI die angesteuert werden soll\n",
    "full_url = base_url + doi\n",
    "#Beide zusammengefasst um den kompletten Link zu erhalten"
   ]
  },
  {
   "cell_type": "code",
   "execution_count": 124,
   "metadata": {},
   "outputs": [],
   "source": [
    "doi_json_data = urllib.request.urlopen(full_url).read()\n",
    "#Methode urlopen speichert es nicht als Datei (das wäre urlrequest) sondern öffnet die Daten direkt"
   ]
  },
  {
   "cell_type": "code",
   "execution_count": 125,
   "metadata": {},
   "outputs": [
    {
     "name": "stdout",
     "output_type": "stream",
     "text": [
      "b'{\"status\":\"ok\",\"message-type\":\"work\",\"message-version\":\"1.0.0\",\"message\":{\"indexed\":{\"date-parts\":[[2019,5,16]],\"date-time\":\"2019-05-16T07:44:05Z\",\"timestamp\":1557992645228},\"reference-count\":6,\"publisher\":\"Public Library of Science (PLoS)\",\"issue\":\"1\",\"license\":[{\"URL\":\"http:\\\\/\\\\/creativecommons.org\\\\/licenses\\\\/by\\\\/4.0\\\\/\",\"start\":{\"date-parts\":[[2016,1,19]],\"date-time\":\"2016-01-19T00:00:00Z\",\"timestamp\":1453161600000},\"delay-in-days\":0,\"content-version\":\"vor\"}],\"content-domain\":{\"domain\":[\"www.ploscompbiol.org\"],\"crossmark-restriction\":false},\"short-container-title\":[\"PLoS Comput Biol\"],\"DOI\":\"10.1371\\\\/journal.pcbi.1004668\",\"type\":\"journal-article\",\"created\":{\"date-parts\":[[2016,1,19]],\"date-time\":\"2016-01-19T21:35:29Z\",\"timestamp\":1453239329000},\"page\":\"e1004668\",\"update-policy\":\"http:\\\\/\\\\/dx.doi.org\\\\/10.1371\\\\/journal.pcbi.corrections_policy\",\"source\":\"Crossref\",\"is-referenced-by-count\":28,\"title\":[\"A Quick Introduction to Version Control with Git and GitHub\"],\"prefix\":\"10.1371\",\"volume\":\"12\",\"author\":[{\"given\":\"John D.\",\"family\":\"Blischak\",\"sequence\":\"first\",\"affiliation\":[]},{\"given\":\"Emily R.\",\"family\":\"Davenport\",\"sequence\":\"additional\",\"affiliation\":[]},{\"given\":\"Greg\",\"family\":\"Wilson\",\"sequence\":\"additional\",\"affiliation\":[]}],\"member\":\"340\",\"published-online\":{\"date-parts\":[[2016,1,19]]},\"reference\":[{\"key\":\"ref1\",\"doi-asserted-by\":\"crossref\",\"first-page\":\"7\",\"DOI\":\"10.1186\\\\/1751-0473-8-7\",\"article-title\":\"Git can facilitate greater reproducibility and increased transparency in science\",\"volume\":\"8\",\"author\":\"K Ram\",\"year\":\"2013\",\"journal-title\":\"Source Code Biol Med\"},{\"key\":\"ref2\",\"doi-asserted-by\":\"crossref\",\"first-page\":\"e1001745\",\"DOI\":\"10.1371\\\\/journal.pbio.1001745\",\"article-title\":\"Best practices for scientific computing\",\"volume\":\"12\",\"author\":\"G Wilson\",\"year\":\"2014\",\"journal-title\":\"PLoS Biol\"},{\"key\":\"ref3\",\"doi-asserted-by\":\"crossref\",\"first-page\":\"57\",\"DOI\":\"10.1038\\\\/nature11247\",\"article-title\":\"An integrated encyclopedia of DNA elements in the human genome\",\"volume\":\"489\",\"author\":\"B Bernstein\",\"year\":\"2012\",\"journal-title\":\"Nature\"},{\"key\":\"ref4\",\"doi-asserted-by\":\"crossref\",\"first-page\":\"e1003326\",\"DOI\":\"10.1371\\\\/journal.pcbi.1003326\",\"article-title\":\"Practical guidelines for the comprehensive analysis of ChIP-seq data\",\"volume\":\"9\",\"author\":\"T Bailey\",\"year\":\"2013\",\"journal-title\":\"PLoS Comput Biol\"},{\"key\":\"ref5\",\"doi-asserted-by\":\"crossref\",\"first-page\":\"e1000424\",\"DOI\":\"10.1371\\\\/journal.pcbi.1000424\",\"article-title\":\"A quick guide to organizing computational biology projects\",\"volume\":\"5\",\"author\":\"W Noble\",\"year\":\"2009\",\"journal-title\":\"PLoS Comput Biol\"},{\"key\":\"ref6\",\"doi-asserted-by\":\"crossref\",\"first-page\":\"e1002598\",\"DOI\":\"10.1371\\\\/journal.pcbi.1002598\",\"article-title\":\"A quick guide to software licensing for the scientist-programmer\",\"volume\":\"8\",\"author\":\"A Morin\",\"year\":\"2012\",\"journal-title\":\"PLoS Comput Biol\"}],\"container-title\":[\"PLOS Computational Biology\"],\"original-title\":[],\"language\":\"en\",\"link\":[{\"URL\":\"http:\\\\/\\\\/dx.plos.org\\\\/10.1371\\\\/journal.pcbi.1004668\",\"content-type\":\"unspecified\",\"content-version\":\"vor\",\"intended-application\":\"similarity-checking\"}],\"deposited\":{\"date-parts\":[[2017,6,24]],\"date-time\":\"2017-06-24T04:04:33Z\",\"timestamp\":1498277073000},\"score\":1.0,\"subtitle\":[],\"editor\":[{\"given\":\"Francis\",\"family\":\"Ouellette\",\"sequence\":\"first\",\"affiliation\":[]}],\"short-title\":[],\"issued\":{\"date-parts\":[[2016,1,19]]},\"references-count\":6,\"journal-issue\":{\"published-online\":{\"date-parts\":[[2016,1,19]]},\"issue\":\"1\"},\"URL\":\"http:\\\\/\\\\/dx.doi.org\\\\/10.1371\\\\/journal.pcbi.1004668\",\"relation\":{\"cites\":[]},\"ISSN\":[\"1553-7358\"],\"issn-type\":[{\"value\":\"1553-7358\",\"type\":\"electronic\"}]}}'\n"
     ]
    }
   ],
   "source": [
    "print(doi_json_data)\n",
    "#Anzeige der JSON Datei noch nicht lesbar, reiner String. Kann also noch nicht als key-value gelesen werden."
   ]
  },
  {
   "cell_type": "code",
   "execution_count": 126,
   "metadata": {},
   "outputs": [],
   "source": [
    "doi_data = json.loads(doi_json_data)\n",
    "#Funktion load string der Bibliothek JSON nimmt den String, \n",
    "#übersetzt den in ein Dictionary und schreibt ihn in eine neue Variable doi_dataabs"
   ]
  },
  {
   "cell_type": "code",
   "execution_count": 127,
   "metadata": {},
   "outputs": [
    {
     "data": {
      "text/plain": [
       "dict"
      ]
     },
     "execution_count": 127,
     "metadata": {},
     "output_type": "execute_result"
    }
   ],
   "source": [
    "type(doi_data)\n",
    "#prüft ob es wirklich als Dictionary übersetzt wurde"
   ]
  },
  {
   "cell_type": "code",
   "execution_count": 128,
   "metadata": {},
   "outputs": [
    {
     "data": {
      "text/plain": [
       "dict_keys(['status', 'message-type', 'message-version', 'message'])"
      ]
     },
     "execution_count": 128,
     "metadata": {},
     "output_type": "execute_result"
    }
   ],
   "source": [
    "doi_data.keys()\n",
    "#Gibt die Schlüssel des Dictionaries im obersten Level an"
   ]
  },
  {
   "cell_type": "code",
   "execution_count": 129,
   "metadata": {},
   "outputs": [
    {
     "name": "stdout",
     "output_type": "stream",
     "text": [
      "{\n",
      "  \"status\": \"ok\",\n",
      "  \"message-type\": \"work\",\n",
      "  \"message-version\": \"1.0.0\",\n",
      "  \"message\": {\n",
      "    \"indexed\": {\n",
      "      \"date-parts\": [\n",
      "        [\n",
      "          2019,\n",
      "          5,\n",
      "          16\n",
      "        ]\n",
      "      ],\n",
      "      \"date-time\": \"2019-05-16T07:44:05Z\",\n",
      "      \"timestamp\": 1557992645228\n",
      "    },\n",
      "    \"reference-count\": 6,\n",
      "    \"publisher\": \"Public Library of Science (PLoS)\",\n",
      "    \"issue\": \"1\",\n",
      "    \"license\": [\n",
      "      {\n",
      "        \"URL\": \"http://creativecommons.org/licenses/by/4.0/\",\n",
      "        \"start\": {\n",
      "          \"date-parts\": [\n",
      "            [\n",
      "              2016,\n",
      "              1,\n",
      "              19\n",
      "            ]\n",
      "          ],\n",
      "          \"date-time\": \"2016-01-19T00:00:00Z\",\n",
      "          \"timestamp\": 1453161600000\n",
      "        },\n",
      "        \"delay-in-days\": 0,\n",
      "        \"content-version\": \"vor\"\n",
      "      }\n",
      "    ],\n",
      "    \"content-domain\": {\n",
      "      \"domain\": [\n",
      "        \"www.ploscompbiol.org\"\n",
      "      ],\n",
      "      \"crossmark-restriction\": false\n",
      "    },\n",
      "    \"short-container-title\": [\n",
      "      \"PLoS Comput Biol\"\n",
      "    ],\n",
      "    \"DOI\": \"10.1371/journal.pcbi.1004668\",\n",
      "    \"type\": \"journal-article\",\n",
      "    \"created\": {\n",
      "      \"date-parts\": [\n",
      "        [\n",
      "          2016,\n",
      "          1,\n",
      "          19\n",
      "        ]\n",
      "      ],\n",
      "      \"date-time\": \"2016-01-19T21:35:29Z\",\n",
      "      \"timestamp\": 1453239329000\n",
      "    },\n",
      "    \"page\": \"e1004668\",\n",
      "    \"update-policy\": \"http://dx.doi.org/10.1371/journal.pcbi.corrections_policy\",\n",
      "    \"source\": \"Crossref\",\n",
      "    \"is-referenced-by-count\": 28,\n",
      "    \"title\": [\n",
      "      \"A Quick Introduction to Version Control with Git and GitHub\"\n",
      "    ],\n",
      "    \"prefix\": \"10.1371\",\n",
      "    \"volume\": \"12\",\n",
      "    \"author\": [\n",
      "      {\n",
      "        \"given\": \"John D.\",\n",
      "        \"family\": \"Blischak\",\n",
      "        \"sequence\": \"first\",\n",
      "        \"affiliation\": []\n",
      "      },\n",
      "      {\n",
      "        \"given\": \"Emily R.\",\n",
      "        \"family\": \"Davenport\",\n",
      "        \"sequence\": \"additional\",\n",
      "        \"affiliation\": []\n",
      "      },\n",
      "      {\n",
      "        \"given\": \"Greg\",\n",
      "        \"family\": \"Wilson\",\n",
      "        \"sequence\": \"additional\",\n",
      "        \"affiliation\": []\n",
      "      }\n",
      "    ],\n",
      "    \"member\": \"340\",\n",
      "    \"published-online\": {\n",
      "      \"date-parts\": [\n",
      "        [\n",
      "          2016,\n",
      "          1,\n",
      "          19\n",
      "        ]\n",
      "      ]\n",
      "    },\n",
      "    \"reference\": [\n",
      "      {\n",
      "        \"key\": \"ref1\",\n",
      "        \"doi-asserted-by\": \"crossref\",\n",
      "        \"first-page\": \"7\",\n",
      "        \"DOI\": \"10.1186/1751-0473-8-7\",\n",
      "        \"article-title\": \"Git can facilitate greater reproducibility and increased transparency in science\",\n",
      "        \"volume\": \"8\",\n",
      "        \"author\": \"K Ram\",\n",
      "        \"year\": \"2013\",\n",
      "        \"journal-title\": \"Source Code Biol Med\"\n",
      "      },\n",
      "      {\n",
      "        \"key\": \"ref2\",\n",
      "        \"doi-asserted-by\": \"crossref\",\n",
      "        \"first-page\": \"e1001745\",\n",
      "        \"DOI\": \"10.1371/journal.pbio.1001745\",\n",
      "        \"article-title\": \"Best practices for scientific computing\",\n",
      "        \"volume\": \"12\",\n",
      "        \"author\": \"G Wilson\",\n",
      "        \"year\": \"2014\",\n",
      "        \"journal-title\": \"PLoS Biol\"\n",
      "      },\n",
      "      {\n",
      "        \"key\": \"ref3\",\n",
      "        \"doi-asserted-by\": \"crossref\",\n",
      "        \"first-page\": \"57\",\n",
      "        \"DOI\": \"10.1038/nature11247\",\n",
      "        \"article-title\": \"An integrated encyclopedia of DNA elements in the human genome\",\n",
      "        \"volume\": \"489\",\n",
      "        \"author\": \"B Bernstein\",\n",
      "        \"year\": \"2012\",\n",
      "        \"journal-title\": \"Nature\"\n",
      "      },\n",
      "      {\n",
      "        \"key\": \"ref4\",\n",
      "        \"doi-asserted-by\": \"crossref\",\n",
      "        \"first-page\": \"e1003326\",\n",
      "        \"DOI\": \"10.1371/journal.pcbi.1003326\",\n",
      "        \"article-title\": \"Practical guidelines for the comprehensive analysis of ChIP-seq data\",\n",
      "        \"volume\": \"9\",\n",
      "        \"author\": \"T Bailey\",\n",
      "        \"year\": \"2013\",\n",
      "        \"journal-title\": \"PLoS Comput Biol\"\n",
      "      },\n",
      "      {\n",
      "        \"key\": \"ref5\",\n",
      "        \"doi-asserted-by\": \"crossref\",\n",
      "        \"first-page\": \"e1000424\",\n",
      "        \"DOI\": \"10.1371/journal.pcbi.1000424\",\n",
      "        \"article-title\": \"A quick guide to organizing computational biology projects\",\n",
      "        \"volume\": \"5\",\n",
      "        \"author\": \"W Noble\",\n",
      "        \"year\": \"2009\",\n",
      "        \"journal-title\": \"PLoS Comput Biol\"\n",
      "      },\n",
      "      {\n",
      "        \"key\": \"ref6\",\n",
      "        \"doi-asserted-by\": \"crossref\",\n",
      "        \"first-page\": \"e1002598\",\n",
      "        \"DOI\": \"10.1371/journal.pcbi.1002598\",\n",
      "        \"article-title\": \"A quick guide to software licensing for the scientist-programmer\",\n",
      "        \"volume\": \"8\",\n",
      "        \"author\": \"A Morin\",\n",
      "        \"year\": \"2012\",\n",
      "        \"journal-title\": \"PLoS Comput Biol\"\n",
      "      }\n",
      "    ],\n",
      "    \"container-title\": [\n",
      "      \"PLOS Computational Biology\"\n",
      "    ],\n",
      "    \"original-title\": [],\n",
      "    \"language\": \"en\",\n",
      "    \"link\": [\n",
      "      {\n",
      "        \"URL\": \"http://dx.plos.org/10.1371/journal.pcbi.1004668\",\n",
      "        \"content-type\": \"unspecified\",\n",
      "        \"content-version\": \"vor\",\n",
      "        \"intended-application\": \"similarity-checking\"\n",
      "      }\n",
      "    ],\n",
      "    \"deposited\": {\n",
      "      \"date-parts\": [\n",
      "        [\n",
      "          2017,\n",
      "          6,\n",
      "          24\n",
      "        ]\n",
      "      ],\n",
      "      \"date-time\": \"2017-06-24T04:04:33Z\",\n",
      "      \"timestamp\": 1498277073000\n",
      "    },\n",
      "    \"score\": 1.0,\n",
      "    \"subtitle\": [],\n",
      "    \"editor\": [\n",
      "      {\n",
      "        \"given\": \"Francis\",\n",
      "        \"family\": \"Ouellette\",\n",
      "        \"sequence\": \"first\",\n",
      "        \"affiliation\": []\n",
      "      }\n",
      "    ],\n",
      "    \"short-title\": [],\n",
      "    \"issued\": {\n",
      "      \"date-parts\": [\n",
      "        [\n",
      "          2016,\n",
      "          1,\n",
      "          19\n",
      "        ]\n",
      "      ]\n",
      "    },\n",
      "    \"references-count\": 6,\n",
      "    \"journal-issue\": {\n",
      "      \"published-online\": {\n",
      "        \"date-parts\": [\n",
      "          [\n",
      "            2016,\n",
      "            1,\n",
      "            19\n",
      "          ]\n",
      "        ]\n",
      "      },\n",
      "      \"issue\": \"1\"\n",
      "    },\n",
      "    \"URL\": \"http://dx.doi.org/10.1371/journal.pcbi.1004668\",\n",
      "    \"relation\": {\n",
      "      \"cites\": []\n",
      "    },\n",
      "    \"ISSN\": [\n",
      "      \"1553-7358\"\n",
      "    ],\n",
      "    \"issn-type\": [\n",
      "      {\n",
      "        \"value\": \"1553-7358\",\n",
      "        \"type\": \"electronic\"\n",
      "      }\n",
      "    ]\n",
      "  }\n",
      "}\n"
     ]
    }
   ],
   "source": [
    "print(json.dumps (doi_data, indent = 2))\n",
    "#json.dumps gibt die JSON Datei aus\n",
    "#Indent bestimmt die Einrückung\n",
    "#status, message-type und message-version enthalten einen Wert\n",
    "#message ist ein eigenes Dictionary"
   ]
  },
  {
   "cell_type": "code",
   "execution_count": 130,
   "metadata": {},
   "outputs": [
    {
     "data": {
      "text/plain": [
       "dict_keys(['indexed', 'reference-count', 'publisher', 'issue', 'license', 'content-domain', 'short-container-title', 'DOI', 'type', 'created', 'page', 'update-policy', 'source', 'is-referenced-by-count', 'title', 'prefix', 'volume', 'author', 'member', 'published-online', 'reference', 'container-title', 'original-title', 'language', 'link', 'deposited', 'score', 'subtitle', 'editor', 'short-title', 'issued', 'references-count', 'journal-issue', 'URL', 'relation', 'ISSN', 'issn-type'])"
      ]
     },
     "execution_count": 130,
     "metadata": {},
     "output_type": "execute_result"
    }
   ],
   "source": [
    "doi_data[\"message\"].keys()\n",
    "#Gibt über das Key message im Dictionary doi_data die Keys des Dictionaries in message aus"
   ]
  },
  {
   "cell_type": "code",
   "execution_count": 131,
   "metadata": {},
   "outputs": [
    {
     "data": {
      "text/plain": [
       "dict_keys(['indexed', 'reference-count', 'publisher', 'issue', 'license', 'content-domain', 'short-container-title', 'DOI', 'type', 'created', 'page', 'update-policy', 'source', 'is-referenced-by-count', 'title', 'prefix', 'volume', 'author', 'member', 'published-online', 'reference', 'container-title', 'original-title', 'language', 'link', 'deposited', 'score', 'subtitle', 'editor', 'short-title', 'issued', 'references-count', 'journal-issue', 'URL', 'relation', 'ISSN', 'issn-type'])"
      ]
     },
     "execution_count": 131,
     "metadata": {},
     "output_type": "execute_result"
    }
   ],
   "source": [
    "message_dict=doi_data[\"message\"]\n",
    "message_dict.keys()\n",
    "#Alternativlösung, kleinschrittiger"
   ]
  },
  {
   "cell_type": "code",
   "execution_count": 132,
   "metadata": {},
   "outputs": [],
   "source": [
    "#doi_data[\"message\"][\"title\"]\n",
    "#Erster Level dict ist doi_data\n",
    "#Zweiter Level dict ist Message\n",
    "#Wert Title ausgeben, dafür erst den Key für das Dict Message und dann den Key im Title, weil zwei Schritte"
   ]
  },
  {
   "cell_type": "code",
   "execution_count": 133,
   "metadata": {},
   "outputs": [
    {
     "data": {
      "text/plain": [
       "'A Quick Introduction to Version Control with Git and GitHub'"
      ]
     },
     "execution_count": 133,
     "metadata": {},
     "output_type": "execute_result"
    }
   ],
   "source": [
    "#Vorige Ausgabe gibt es als Liste aus\n",
    "doi_data[\"message\"][\"title\"][0]\n",
    "#mit [0] ist die Ausgabe ein String\n",
    "#type(doi_data)"
   ]
  },
  {
   "cell_type": "code",
   "execution_count": 134,
   "metadata": {},
   "outputs": [
    {
     "data": {
      "text/plain": [
       "'PLoS Comput Biol'"
      ]
     },
     "execution_count": 134,
     "metadata": {},
     "output_type": "execute_result"
    }
   ],
   "source": [
    "doi_data[\"message\"][\"short-container-title\"][0]"
   ]
  },
  {
   "cell_type": "markdown",
   "metadata": {},
   "source": [
    "## Übung\n",
    "Aufgabe: JSON Daten für alle DOIS laden\n",
    "Ausgeben: Title, Short-Container-Title, DOI"
   ]
  },
  {
   "cell_type": "code",
   "execution_count": 135,
   "metadata": {},
   "outputs": [],
   "source": [
    "# Liste mit DOIs\n",
    "dois = [\"10.1371/journal.pcbi.1004668\", \n",
    "        \"10.21105/joss.01035\", \n",
    "        \"10.1038/35057062\", \n",
    "        \"10.21105/joss.01006\"]"
   ]
  },
  {
   "cell_type": "code",
   "execution_count": 136,
   "metadata": {
    "scrolled": true
   },
   "outputs": [
    {
     "name": "stdout",
     "output_type": "stream",
     "text": [
      "10.1371/journal.pcbi.1004668\n",
      "10.21105/joss.01035\n",
      "10.1038/35057062\n",
      "10.21105/joss.01006\n"
     ]
    }
   ],
   "source": [
    "#Zwischenschritt: Jedes Element der Liste dois mit einer For Schleife ausgeben\n",
    "for doi in dois:\n",
    "    print(doi)"
   ]
  },
  {
   "cell_type": "code",
   "execution_count": 143,
   "metadata": {},
   "outputs": [
    {
     "name": "stdout",
     "output_type": "stream",
     "text": [
      "10.1371/journal.pcbi.1004668\n",
      "A Quick Introduction to Version Control with Git and GitHub\n",
      "PLoS Comput Biol\n",
      "\n",
      "10.21105/joss.01035\n",
      "nasapower: A NASA POWER Global Meteorology, Surface Solar Energy and Climatology Data Client for R\n",
      "JOSS\n",
      "\n",
      "10.1038/35057062\n",
      "Initial sequencing and analysis of the human genome\n",
      "Nature\n",
      "\n",
      "10.21105/joss.01006\n",
      "SeqTools: A python package for easy transformation, combination and evaluation of large datasets.\n",
      "JOSS\n",
      "\n"
     ]
    }
   ],
   "source": [
    "for doi in dois:\n",
    "    doi_json_data = urllib.request.urlopen(base_url + doi).read()\n",
    "    #erst die Daten herunterladen, base_url ist oben definiert\n",
    "    doi_data = json.loads(doi_json_data)\n",
    "    #Die JSON Daten in ein Dictionary doi_data umwandeln\n",
    "    print(doi)\n",
    "    print(doi_data[\"message\"][\"title\"][0])\n",
    "    print(doi_data[\"message\"][\"short-container-title\"][0])\n",
    "    print()\n",
    "    #Leerzeile"
   ]
  },
  {
   "cell_type": "code",
   "execution_count": 147,
   "metadata": {},
   "outputs": [
    {
     "name": "stdout",
     "output_type": "stream",
     "text": [
      "10.1371/journal.pcbi.1004668 A Quick Introduction to Version Control with Git and GitHub PLoS Comput Biol\n",
      "10.21105/joss.01035 nasapower: A NASA POWER Global Meteorology, Surface Solar Energy and Climatology Data Client for R JOSS\n",
      "10.1038/35057062 Initial sequencing and analysis of the human genome Nature\n",
      "10.21105/joss.01006 SeqTools: A python package for easy transformation, combination and evaluation of large datasets. JOSS\n"
     ]
    }
   ],
   "source": [
    "for doi in dois:\n",
    "    doi_json_data = urllib.request.urlopen(base_url + doi).read()\n",
    "    #erst die Daten herunterladen, base_url ist oben definiert\n",
    "    doi_data = json.loads(doi_json_data)\n",
    "    #Die JSON Daten in ein Dictionary doi_data umwandeln\n",
    "    print(doi, doi_data[\"message\"][\"title\"][0], doi_data[\"message\"][\"short-container-title\"][0])\n",
    "    #Alternative: Gemeinsame Ausgabe"
   ]
  },
  {
   "cell_type": "markdown",
   "metadata": {},
   "source": [
    "## Idee für Zuhause, mit Pandas die DOI Liste populieren aus einer Datei (CSV, Excel)"
   ]
  },
  {
   "cell_type": "code",
   "execution_count": null,
   "metadata": {},
   "outputs": [],
   "source": []
  }
 ],
 "metadata": {
  "kernelspec": {
   "display_name": "Python 3",
   "language": "python",
   "name": "python3"
  },
  "language_info": {
   "codemirror_mode": {
    "name": "ipython",
    "version": 3
   },
   "file_extension": ".py",
   "mimetype": "text/x-python",
   "name": "python",
   "nbconvert_exporter": "python",
   "pygments_lexer": "ipython3",
   "version": "3.7.3"
  }
 },
 "nbformat": 4,
 "nbformat_minor": 2
}
